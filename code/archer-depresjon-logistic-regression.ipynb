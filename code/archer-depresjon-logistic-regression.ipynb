{
 "cells": [
  {
   "cell_type": "code",
   "execution_count": 1,
   "metadata": {},
   "outputs": [],
   "source": [
    "import os\n",
    "import glob\n",
    "import time\n",
    "import datetime\n",
    "import collections\n",
    "\n",
    "import numpy as np\n",
    "import pandas as pd\n",
    "import matplotlib.pyplot as plt\n",
    "import seaborn as snc\n",
    "\n",
    "import sklearn\n",
    "from sklearn.model_selection import train_test_split\n",
    "from sklearn.preprocessing import StandardScaler\n",
    "from sklearn.linear_model import LogisticRegression\n",
    "from sklearn.tree import DecisionTreeClassifier\n",
    "from sklearn.preprocessing import LabelEncoder\n",
    "\n",
    "import PIL\n",
    "import lightgbm"
   ]
  },
  {
   "cell_type": "code",
   "execution_count": 2,
   "metadata": {},
   "outputs": [],
   "source": [
    "%matplotlib inline"
   ]
  },
  {
   "cell_type": "code",
   "execution_count": 3,
   "metadata": {},
   "outputs": [],
   "source": [
    "scores_df = pd.read_csv('../input/depression/data/scores.csv')"
   ]
  },
  {
   "cell_type": "code",
   "execution_count": 4,
   "metadata": {},
   "outputs": [],
   "source": [
    "#scores_df"
   ]
  },
  {
   "cell_type": "code",
   "execution_count": 5,
   "metadata": {},
   "outputs": [],
   "source": [
    "#scores_df_cond_only"
   ]
  },
  {
   "cell_type": "code",
   "execution_count": 6,
   "metadata": {},
   "outputs": [],
   "source": [
    "#scores_df_cond_only = scores_df.drop([23:])\n",
    "scores_df = scores_df.drop(['melanch', 'edu'], axis=1)\n",
    "#scores_df = scores_df.drop(['edu'], axis=1)"
   ]
  },
  {
   "cell_type": "code",
   "execution_count": 7,
   "metadata": {},
   "outputs": [],
   "source": [
    "#scores_df"
   ]
  },
  {
   "cell_type": "code",
   "execution_count": 8,
   "metadata": {},
   "outputs": [],
   "source": [
    "#scores_df_cond_only = pd.DataFrame()"
   ]
  },
  {
   "cell_type": "code",
   "execution_count": 9,
   "metadata": {},
   "outputs": [],
   "source": [
    "#scores_df_cond_only = scores_df if 'condition' in scores_df['number'] else 0"
   ]
  },
  {
   "cell_type": "code",
   "execution_count": 10,
   "metadata": {},
   "outputs": [],
   "source": [
    "#for i, entry in enumerate(scores_df['number']):\n",
    "#    if 'condition' in entry:\n",
    "#        scores_df_cond_only = pd.concat([scores_df_cond_only, scores_df.iloc[i]], axis=0)"
   ]
  },
  {
   "cell_type": "code",
   "execution_count": 11,
   "metadata": {},
   "outputs": [],
   "source": [
    "#scores_df_cond_only"
   ]
  },
  {
   "cell_type": "code",
   "execution_count": 12,
   "metadata": {},
   "outputs": [],
   "source": [
    "#train_X_timestamp.iloc[i, 'timestamp'] = np.dtype(splitted_timestamp[0], np.datetime_data)"
   ]
  },
  {
   "cell_type": "code",
   "execution_count": 13,
   "metadata": {},
   "outputs": [],
   "source": [
    "def get_data(path_to_data, scores_df):\n",
    "    data_df = pd.read_csv('../input/depression/data/condition/condition_1.csv')\n",
    "\n",
    "    for filename in scores_df['number'][1:]:\n",
    "        #print(filename)\n",
    "        if 'condition' in filename:\n",
    "            #print(path_to_data + filename + '.csv')\n",
    "            #data_df = pd.concat([pd.read_csv(path_to_data + filename + '.csv'), data_df], axis=0)\n",
    "            #data_df = pd.merge([data_df, scores_df], 'right')\n",
    "            data_df = pd.concat([data_df, pd.read_csv(path_to_data + filename + '.csv')], axis=0)\n",
    "    data_df.reset_index(inplace=True)\n",
    "    return data_df[data_df.columns.drop(['index'])]"
   ]
  },
  {
   "cell_type": "code",
   "execution_count": 19,
   "metadata": {},
   "outputs": [],
   "source": [
    "#def get_data(path_to_data):\n",
    "#   return pd.read_csv(path_to_data)"
   ]
  },
  {
   "cell_type": "code",
   "execution_count": null,
   "metadata": {},
   "outputs": [],
   "source": [
    "#def get_labels(path_to_labels):\n",
    "#   return pd.read_csv(path_to_labels)"
   ]
  },
  {
   "cell_type": "code",
   "execution_count": 20,
   "metadata": {},
   "outputs": [],
   "source": [
    "train_df = get_data('../input/depression/data/condition/', scores_df)"
   ]
  },
  {
   "cell_type": "code",
   "execution_count": 15,
   "metadata": {},
   "outputs": [
    {
     "name": "stdout",
     "output_type": "stream",
     "text": [
      "<class 'pandas.core.frame.DataFrame'>\n",
      "RangeIndex: 551716 entries, 0 to 551715\n",
      "Data columns (total 3 columns):\n",
      "timestamp    551716 non-null object\n",
      "date         551716 non-null object\n",
      "activity     551716 non-null int64\n",
      "dtypes: int64(1), object(2)\n",
      "memory usage: 12.6+ MB\n"
     ]
    }
   ],
   "source": [
    "train_df.info()"
   ]
  },
  {
   "cell_type": "code",
   "execution_count": 16,
   "metadata": {},
   "outputs": [],
   "source": [
    "#train_df.head()"
   ]
  },
  {
   "cell_type": "code",
   "execution_count": 17,
   "metadata": {},
   "outputs": [],
   "source": [
    "#train_df.tail()\n",
    "#train_df.reset_index(inplace=True)"
   ]
  },
  {
   "cell_type": "code",
   "execution_count": 18,
   "metadata": {},
   "outputs": [
    {
     "data": {
      "text/plain": [
       "(551716, 3)"
      ]
     },
     "execution_count": 18,
     "metadata": {},
     "output_type": "execute_result"
    }
   ],
   "source": [
    "train_df.shape"
   ]
  },
  {
   "cell_type": "code",
   "execution_count": 21,
   "metadata": {},
   "outputs": [
    {
     "name": "stdout",
     "output_type": "stream",
     "text": [
      "<class 'pandas.core.frame.DataFrame'>\n",
      "RangeIndex: 551716 entries, 0 to 551715\n",
      "Data columns (total 3 columns):\n",
      "timestamp    551716 non-null object\n",
      "date         551716 non-null object\n",
      "activity     551716 non-null int64\n",
      "dtypes: int64(1), object(2)\n",
      "memory usage: 12.6+ MB\n"
     ]
    }
   ],
   "source": [
    "train_df.info()"
   ]
  },
  {
   "cell_type": "code",
   "execution_count": 22,
   "metadata": {},
   "outputs": [],
   "source": [
    "le = LabelEncoder()"
   ]
  },
  {
   "cell_type": "code",
   "execution_count": 35,
   "metadata": {},
   "outputs": [],
   "source": [
    "clf_lr = LogisticRegression(solver='lbfgs' ,multi_class='multinomial', n_jobs=12)\n",
    "#clf = DecisionTreeClassifier(min_impurity_decrease=0.001)\n",
    "clf_lgb = lightgbm.LGBMClassifier(objective='multiclass', max_depth=4, learning_rate=0.01, num_threads=12)"
   ]
  },
  {
   "cell_type": "code",
   "execution_count": 24,
   "metadata": {},
   "outputs": [],
   "source": [
    "#train_X = pd.to_datetime(train_df[train_df.columns.drop(['timestamp', 'activity',])])\n",
    "#train_X = (pd.to_datetime(train_df[train_df.columns.drop(['timestamp', 'activity'])])).dt.strftime('%Y-%m-%d  %H:%M%:%S').astype(np.float32)\n",
    "#train_X = train_df[train_df.columns.drop(['timestamp', 'activity'])].split('-').astype(np.float32)\n",
    "train_X = le.fit_transform(train_df[train_df.columns.drop(['date', 'activity'])])\n",
    "#print(le.fit_transform(train_df[train_df.columns.drop(['date', 'activity'])]))\n",
    "#train_X = \n",
    "#train_X_timestamp = pd.to_datetime(train_X.loc['date', :])\n",
    "#train_X_timestamp.loc['timestamp', :] = pd.to_datetime(train_X.loc['timestamp', :])\n",
    "#train_X_timestamp['timestamp'] =\n",
    "#pd.to_datetime(train_X.loc['timestamp', :])\n",
    "#temp_train_X = pd.DataFrame(index=[0:551715])\n",
    "#temp_train_X = pd.DataFrame()\n",
    "#max_idx = 0\n",
    "'''\n",
    "for i, date in enumerate(train_X['date']):\n",
    "    #if i > max_idx:\n",
    "    #    max_idx = i\n",
    "    #splitted_timestamp = timestamp.split(' ')\n",
    "    #train_X_timestamp.iloc[i, 'timestamp'] = np.dtype(splitted_timestamp[0], np.datetime_data)\n",
    "    train_date = pd.to_datetime(date)\n",
    "    train_X_timestamp.loc['date', :] = train_date\n",
    "    \n",
    "    #train_X_timestamp.iloc[i, 'timestamp'] = timestamp\n",
    "'''\n",
    "#print(max_idx)\n",
    "train_y = train_df[train_df.columns.drop(['timestamp', 'date'])]"
   ]
  },
  {
   "cell_type": "code",
   "execution_count": 31,
   "metadata": {},
   "outputs": [
    {
     "data": {
      "text/plain": [
       "array([93298, 93299, 93300, 93301, 93302, 93303, 93304, 93305, 93306,\n",
       "       93307])"
      ]
     },
     "execution_count": 31,
     "metadata": {},
     "output_type": "execute_result"
    }
   ],
   "source": [
    "train_X[:10]"
   ]
  },
  {
   "cell_type": "code",
   "execution_count": 32,
   "metadata": {},
   "outputs": [
    {
     "data": {
      "text/plain": [
       "array([50285, 50286, 50287, 50288, 50289, 50290, 50291, 50292, 50293,\n",
       "       50294])"
      ]
     },
     "execution_count": 32,
     "metadata": {},
     "output_type": "execute_result"
    }
   ],
   "source": [
    "train_X[-10:]"
   ]
  },
  {
   "cell_type": "code",
   "execution_count": 33,
   "metadata": {},
   "outputs": [],
   "source": [
    "train_X_reshaped = train_X.reshape(-1, 1)"
   ]
  },
  {
   "cell_type": "code",
   "execution_count": 34,
   "metadata": {},
   "outputs": [
    {
     "data": {
      "text/plain": [
       "(551716, 1)"
      ]
     },
     "execution_count": 34,
     "metadata": {},
     "output_type": "execute_result"
    }
   ],
   "source": [
    "train_X_reshaped.shape"
   ]
  },
  {
   "cell_type": "code",
   "execution_count": 29,
   "metadata": {},
   "outputs": [
    {
     "name": "stdout",
     "output_type": "stream",
     "text": [
      "total_time in min: 13.780151077111562\n"
     ]
    }
   ],
   "source": [
    "start_time = time.time()\n",
    "clf_lgb.fit(train_X_reshaped, train_y)\n",
    "print(\"total_time in min: {}\".format((time.time() - start_time ) / 60))"
   ]
  },
  {
   "cell_type": "code",
   "execution_count": 36,
   "metadata": {},
   "outputs": [
    {
     "name": "stdout",
     "output_type": "stream",
     "text": [
      "total time in min: 75.6103862563769\n"
     ]
    }
   ],
   "source": [
    "start_time = time.time()\n",
    "clf_lr.fit(train_X_reshaped, train_y)\n",
    "print(\"total time in min: {}\".format((time.time() - start_time ) / 60)) "
   ]
  },
  {
   "cell_type": "code",
   "execution_count": null,
   "metadata": {},
   "outputs": [],
   "source": []
  }
 ],
 "metadata": {
  "kernelspec": {
   "display_name": "Python 3",
   "language": "python",
   "name": "python3"
  },
  "language_info": {
   "codemirror_mode": {
    "name": "ipython",
    "version": 3
   },
   "file_extension": ".py",
   "mimetype": "text/x-python",
   "name": "python",
   "nbconvert_exporter": "python",
   "pygments_lexer": "ipython3",
   "version": "3.6.7"
  }
 },
 "nbformat": 4,
 "nbformat_minor": 2
}
